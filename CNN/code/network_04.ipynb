{
 "cells": [
  {
   "cell_type": "code",
   "execution_count": 1,
   "metadata": {},
   "outputs": [
    {
     "name": "stderr",
     "output_type": "stream",
     "text": [
      "Using TensorFlow backend.\n"
     ]
    }
   ],
   "source": [
    "import matplotlib\n",
    "import cv2\n",
    "import os\n",
    "import pickle\n",
    "import random\n",
    "import numpy as np\n",
    "import matplotlib.pyplot as plt\n",
    "from keras.models import Sequential\n",
    "from keras.layers import Dense, Dropout, Flatten\n",
    "from keras.layers import Conv2D, MaxPooling2D\n",
    "from keras import backend as K\n",
    "from sklearn.preprocessing import LabelBinarizer\n",
    "from sklearn.model_selection import train_test_split\n",
    "from sklearn.metrics import classification_report\n",
    "import pathlib"
   ]
  },
  {
   "cell_type": "code",
   "execution_count": 2,
   "metadata": {},
   "outputs": [],
   "source": [
    "data = []\n",
    "labels = []\n",
    "\n",
    "#берём пути к изображениям и рандомно перемешиваем\n",
    "data_root = pathlib.Path(\"C:\\\\UIR\\\\samples\\\\sample_1\\\\1000\\\\cut_letters\")\n",
    "imagePaths = list(data_root.glob('*/*'))\n",
    "imagePaths = [str(path) for path in imagePaths]\n",
    "random.shuffle(imagePaths)\n",
    "\n",
    "#цикл по изображениям\n",
    "for imagePath in imagePaths:\n",
    "    #загружаем изображение, меняем размер на 28x28 пикселей и добавляем в список\n",
    "    image = cv2.imread(imagePath)\n",
    "    image = cv2.resize(image,(28,28))\n",
    "    data.append(image)\n",
    "    \n",
    "    #извлекаем метку класса из пути к изображению и обновляем список меток\n",
    "    label = imagePath.split(os.path.sep)[-2]\n",
    "    labels.append(label)"
   ]
  },
  {
   "cell_type": "code",
   "execution_count": 3,
   "metadata": {},
   "outputs": [],
   "source": [
    "# масштабируем интенсивности пикселей из диапазона [0,255] -> в диапазон [0, 1]\n",
    "data = np.array(data,dtype=\"float\") / 255.0\n",
    "labels = np.array(labels)"
   ]
  },
  {
   "cell_type": "code",
   "execution_count": 4,
   "metadata": {},
   "outputs": [
    {
     "name": "stdout",
     "output_type": "stream",
     "text": [
      "(9100, 28, 28, 3)\n",
      "(27300, 28, 28, 3)\n"
     ]
    }
   ],
   "source": [
    "# разбиваем данные на обучающую и тестовую выборки, используя 75% \n",
    "# данных для обучения и оставшиеся 25% для тестирования\n",
    "(trainX,testX, trainY,testY) = train_test_split(data, labels, test_size = 0.25, random_state = 42)\n",
    "print(testX.shape)\n",
    "print(trainX.shape)"
   ]
  },
  {
   "cell_type": "code",
   "execution_count": 5,
   "metadata": {},
   "outputs": [],
   "source": [
    "#Конвертируем метки из целых чисел в векторы\n",
    "lb = LabelBinarizer()\n",
    "trainY = lb.fit_transform(trainY) #находит все уникальные метки класса в testY, а затем преобразует их в метки One-Hot Encoding\n",
    "testY = lb.transform(testY) #выполняет один шаг One-Hot Encoding исходя из найденных уникальных меток на предыдущем шаге"
   ]
  },
  {
   "cell_type": "code",
   "execution_count": 6,
   "metadata": {},
   "outputs": [
    {
     "name": "stdout",
     "output_type": "stream",
     "text": [
      "X_train shape: (27300, 28, 28, 3)\n",
      "27300 train samples\n",
      "9100 test samples\n"
     ]
    }
   ],
   "source": [
    "print('X_train shape:', trainX.shape)\n",
    "print(trainX.shape[0], 'train samples')\n",
    "print(testX.shape[0], 'test samples')"
   ]
  },
  {
   "cell_type": "markdown",
   "metadata": {},
   "source": [
    "## CNN Architecture"
   ]
  },
  {
   "cell_type": "code",
   "execution_count": 13,
   "metadata": {},
   "outputs": [],
   "source": [
    "EPOCHS = 30\n",
    "img_rows, img_cols = 28, 28\n",
    "input_shape = (img_rows, img_cols, 3) #input_shape будет равен 28x28x3\n",
    "num_classes = 28\n",
    "\n",
    "\n",
    "model = Sequential()\n",
    "model.add(Conv2D(filters=15,kernel_size=(9, 9),strides=(1, 1), activation='sigmoid', input_shape=input_shape))\n",
    "model.add(MaxPooling2D(pool_size=(2,2),strides=2, padding='same'))\n",
    "model.add(Conv2D(filters=15,kernel_size=(9, 9),strides=(1, 1), activation='sigmoid'))\n",
    "model.add(MaxPooling2D(pool_size=(2, 2),strides=2))\n",
    "model.add(Flatten())\n",
    "model.add(Dense(150, activation='sigmoid'))\n",
    "#model.add(Dropout(0.5))\n",
    "model.add(Dense(num_classes, activation='softmax'))\n",
    "\n",
    "#Компилируем модель, используя adadelta как оптимизатор и категориальную\n",
    "# кросс-энтропию в качестве функции потерь. Добавляем метрики\n",
    "model.compile(loss='categorical_crossentropy', optimizer='adadelta', metrics=['accuracy'])"
   ]
  },
  {
   "cell_type": "code",
   "execution_count": 14,
   "metadata": {},
   "outputs": [
    {
     "name": "stdout",
     "output_type": "stream",
     "text": [
      "Model: \"sequential_6\"\n",
      "_________________________________________________________________\n",
      "Layer (type)                 Output Shape              Param #   \n",
      "=================================================================\n",
      "conv2d_11 (Conv2D)           (None, 20, 20, 15)        3660      \n",
      "_________________________________________________________________\n",
      "max_pooling2d_9 (MaxPooling2 (None, 10, 10, 15)        0         \n",
      "_________________________________________________________________\n",
      "conv2d_12 (Conv2D)           (None, 2, 2, 15)          18240     \n",
      "_________________________________________________________________\n",
      "max_pooling2d_10 (MaxPooling (None, 1, 1, 15)          0         \n",
      "_________________________________________________________________\n",
      "flatten_3 (Flatten)          (None, 15)                0         \n",
      "_________________________________________________________________\n",
      "dense_5 (Dense)              (None, 150)               2400      \n",
      "_________________________________________________________________\n",
      "dense_6 (Dense)              (None, 28)                4228      \n",
      "=================================================================\n",
      "Total params: 28,528\n",
      "Trainable params: 28,528\n",
      "Non-trainable params: 0\n",
      "_________________________________________________________________\n"
     ]
    }
   ],
   "source": [
    "#отобразим получившуюся модель\n",
    "model.summary()"
   ]
  },
  {
   "cell_type": "code",
   "execution_count": 15,
   "metadata": {},
   "outputs": [],
   "source": [
    "from keras import callbacks"
   ]
  },
  {
   "cell_type": "code",
   "execution_count": 16,
   "metadata": {},
   "outputs": [],
   "source": [
    "#подключаем колбаски для работы tensorboard\n",
    "#write tensorboard --logdir C:/UIR/network_04/logs in cmd\n",
    "my_callbacks = [\n",
    "    callbacks.TensorBoard(log_dir=\"C:\\\\UIR\\\\network_04\\\\logs\", histogram_freq = 1, write_graph = True, write_images = True)\n",
    "]"
   ]
  },
  {
   "cell_type": "code",
   "execution_count": 17,
   "metadata": {},
   "outputs": [
    {
     "name": "stdout",
     "output_type": "stream",
     "text": [
      "Train on 27300 samples, validate on 9100 samples\n",
      "Epoch 1/30\n",
      " - 12s - loss: 1.9487 - accuracy: 0.5628 - val_loss: 0.5982 - val_accuracy: 0.9379\n",
      "Epoch 2/30\n",
      " - 13s - loss: 0.2554 - accuracy: 0.9693 - val_loss: 0.0934 - val_accuracy: 0.9924\n",
      "Epoch 3/30\n",
      " - 14s - loss: 0.0536 - accuracy: 0.9948 - val_loss: 0.0388 - val_accuracy: 0.9947\n",
      "Epoch 4/30\n",
      " - 12s - loss: 0.0277 - accuracy: 0.9961 - val_loss: 0.0287 - val_accuracy: 0.9954\n",
      "Epoch 5/30\n",
      " - 12s - loss: 0.0197 - accuracy: 0.9967 - val_loss: 0.0240 - val_accuracy: 0.9959\n",
      "Epoch 6/30\n",
      " - 12s - loss: 0.0151 - accuracy: 0.9975 - val_loss: 0.0210 - val_accuracy: 0.9962\n",
      "Epoch 7/30\n",
      " - 12s - loss: 0.0123 - accuracy: 0.9981 - val_loss: 0.0198 - val_accuracy: 0.9966\n",
      "Epoch 8/30\n",
      " - 12s - loss: 0.0107 - accuracy: 0.9982 - val_loss: 0.0188 - val_accuracy: 0.9965\n",
      "Epoch 9/30\n",
      " - 13s - loss: 0.0088 - accuracy: 0.9985 - val_loss: 0.0170 - val_accuracy: 0.9967\n",
      "Epoch 10/30\n",
      " - 13s - loss: 0.0082 - accuracy: 0.9987 - val_loss: 0.0155 - val_accuracy: 0.9969\n",
      "Epoch 11/30\n",
      " - 12s - loss: 0.0072 - accuracy: 0.9987 - val_loss: 0.0162 - val_accuracy: 0.9968\n",
      "Epoch 12/30\n",
      " - 13s - loss: 0.0066 - accuracy: 0.9989 - val_loss: 0.0145 - val_accuracy: 0.9969\n",
      "Epoch 13/30\n",
      " - 12s - loss: 0.0059 - accuracy: 0.9989 - val_loss: 0.0138 - val_accuracy: 0.9971\n",
      "Epoch 14/30\n",
      " - 12s - loss: 0.0055 - accuracy: 0.9990 - val_loss: 0.0126 - val_accuracy: 0.9975\n",
      "Epoch 15/30\n",
      " - 12s - loss: 0.0047 - accuracy: 0.9990 - val_loss: 0.0126 - val_accuracy: 0.9973\n",
      "Epoch 16/30\n",
      " - 12s - loss: 0.0044 - accuracy: 0.9993 - val_loss: 0.0123 - val_accuracy: 0.9973\n",
      "Epoch 17/30\n",
      " - 12s - loss: 0.0040 - accuracy: 0.9993 - val_loss: 0.0115 - val_accuracy: 0.9974\n",
      "Epoch 18/30\n",
      " - 12s - loss: 0.0038 - accuracy: 0.9994 - val_loss: 0.0117 - val_accuracy: 0.9977\n",
      "Epoch 19/30\n",
      " - 12s - loss: 0.0034 - accuracy: 0.9994 - val_loss: 0.0112 - val_accuracy: 0.9977\n",
      "Epoch 20/30\n",
      " - 12s - loss: 0.0030 - accuracy: 0.9995 - val_loss: 0.0105 - val_accuracy: 0.9976\n",
      "Epoch 21/30\n",
      " - 12s - loss: 0.0028 - accuracy: 0.9995 - val_loss: 0.0105 - val_accuracy: 0.9979\n",
      "Epoch 22/30\n",
      " - 12s - loss: 0.0027 - accuracy: 0.9994 - val_loss: 0.0095 - val_accuracy: 0.9979\n",
      "Epoch 23/30\n",
      " - 12s - loss: 0.0024 - accuracy: 0.9995 - val_loss: 0.0114 - val_accuracy: 0.9978\n",
      "Epoch 24/30\n",
      " - 12s - loss: 0.0021 - accuracy: 0.9996 - val_loss: 0.0093 - val_accuracy: 0.9979\n",
      "Epoch 25/30\n",
      " - 13s - loss: 0.0019 - accuracy: 0.9996 - val_loss: 0.0097 - val_accuracy: 0.9978\n",
      "Epoch 26/30\n",
      " - 13s - loss: 0.0018 - accuracy: 0.9997 - val_loss: 0.0095 - val_accuracy: 0.9978\n",
      "Epoch 27/30\n",
      " - 13s - loss: 0.0016 - accuracy: 0.9997 - val_loss: 0.0091 - val_accuracy: 0.9980\n",
      "Epoch 28/30\n",
      " - 13s - loss: 0.0014 - accuracy: 0.9997 - val_loss: 0.0095 - val_accuracy: 0.9979\n",
      "Epoch 29/30\n",
      " - 13s - loss: 0.0014 - accuracy: 0.9997 - val_loss: 0.0092 - val_accuracy: 0.9979\n",
      "Epoch 30/30\n",
      " - 13s - loss: 0.0013 - accuracy: 0.9999 - val_loss: 0.0095 - val_accuracy: 0.9980\n"
     ]
    }
   ],
   "source": [
    "H = model.fit(trainX, trainY, verbose=2, validation_data=(testX, testY), epochs=EPOCHS, batch_size=32, callbacks=my_callbacks)"
   ]
  },
  {
   "cell_type": "code",
   "execution_count": 18,
   "metadata": {},
   "outputs": [],
   "source": [
    "model.save('model_04.h5')\n",
    "f = open(\"C:\\\\UIR\\\\network_04\\\\bin_class.txt\", \"wb\")\n",
    "f.write(pickle.dumps(lb))\n",
    "f.close()"
   ]
  },
  {
   "cell_type": "markdown",
   "metadata": {},
   "source": [
    "## Plots"
   ]
  },
  {
   "cell_type": "code",
   "execution_count": 19,
   "metadata": {},
   "outputs": [
    {
     "data": {
      "image/png": "[encoded data removed]",
      "text/plain": [
       "<Figure size 432x288 with 1 Axes>"
      ]
     },
     "metadata": {
      "needs_background": "light"
     },
     "output_type": "display_data"
    }
   ],
   "source": [
    "#plotting training and validation loss\n",
    "import matplotlib.pyplot as plt\n",
    "loss = H.history['loss']\n",
    "val_loss = H.history['val_loss']\n",
    "epochs = range(1, len(loss) + 1)\n",
    "plt.plot(epochs, loss, color='red', label='Training loss')\n",
    "plt.plot(epochs, val_loss, color='green', label='Validation loss')\n",
    "plt.title('Training and validation loss')\n",
    "plt.xlabel('Epochs')\n",
    "plt.ylabel('Loss')\n",
    "plt.legend()\n",
    "plt.show()"
   ]
  },
  {
   "cell_type": "code",
   "execution_count": 26,
   "metadata": {},
   "outputs": [
    {
     "data": {
      "image/png": "[encoded data removed]",
      "text/plain": [
       "<Figure size 432x288 with 1 Axes>"
      ]
     },
     "metadata": {
      "needs_background": "light"
     },
     "output_type": "display_data"
    }
   ],
   "source": [
    "#plotting training and validation loss\n",
    "import matplotlib.pyplot as plt\n",
    "loss = H.history['loss']\n",
    "loss = loss[2:10]\n",
    "val_loss = H.history['val_loss']\n",
    "val_loss = val_loss[2:10]\n",
    "epochs = range(1, len(loss) + 1)\n",
    "plt.plot(epochs, loss, color='red', label='Training loss')\n",
    "plt.plot(epochs, val_loss, color='green', label='Validation loss')\n",
    "plt.title('Training and validation loss')\n",
    "plt.xlabel('Epochs')\n",
    "plt.ylabel('Loss')\n",
    "plt.legend()\n",
    "plt.show()"
   ]
  },
  {
   "cell_type": "code",
   "execution_count": 22,
   "metadata": {},
   "outputs": [
    {
     "data": {
      "image/png": "[encoded data removed]",
      "text/plain": [
       "<Figure size 432x288 with 1 Axes>"
      ]
     },
     "metadata": {
      "needs_background": "light"
     },
     "output_type": "display_data"
    }
   ],
   "source": [
    "#plotting training and validation accuracy\n",
    "acc = H.history['accuracy']\n",
    "val_acc = H.history['val_accuracy']\n",
    "epochs = range(1, len(acc) + 1)\n",
    "plt.plot(epochs, acc, color='red', label='Training acc')\n",
    "plt.plot(epochs, val_acc, color='green', label='Validation acc')\n",
    "plt.title('Training and validation accuracy')\n",
    "plt.xlabel('Epochs')\n",
    "plt.ylabel('Loss')\n",
    "plt.legend()\n",
    "plt.show()"
   ]
  },
  {
   "cell_type": "code",
   "execution_count": 28,
   "metadata": {},
   "outputs": [
    {
     "data": {
      "image/png": "[encoded data removed]",
      "text/plain": [
       "<Figure size 432x288 with 1 Axes>"
      ]
     },
     "metadata": {
      "needs_background": "light"
     },
     "output_type": "display_data"
    }
   ],
   "source": [
    "#plotting training and validation accuracy\n",
    "acc = H.history['accuracy']\n",
    "acc = acc[1:10]\n",
    "val_acc = H.history['val_accuracy']\n",
    "val_acc = val_acc[1:10]\n",
    "epochs = range(1, len(acc) + 1)\n",
    "plt.plot(epochs, acc, color='red', label='Training acc')\n",
    "plt.plot(epochs, val_acc, color='green', label='Validation acc')\n",
    "plt.title('Training and validation accuracy')\n",
    "plt.xlabel('Epochs')\n",
    "plt.ylabel('Loss')\n",
    "plt.legend()\n",
    "plt.show()"
   ]
  },
  {
   "cell_type": "code",
   "execution_count": 35,
   "metadata": {},
   "outputs": [
    {
     "data": {
      "image/png": "[encoded data removed]",
      "text/plain": [
       "<Figure size 432x288 with 1 Axes>"
      ]
     },
     "metadata": {
      "needs_background": "light"
     },
     "output_type": "display_data"
    }
   ],
   "source": [
    "#plotting training and validation accuracy\n",
    "acc = H.history['accuracy']\n",
    "acc = acc[1:5]\n",
    "val_acc = H.history['val_accuracy']\n",
    "val_acc = val_acc[1:5]\n",
    "epochs = range(1, len(acc) + 1)\n",
    "plt.plot(epochs, acc, color='red', label='Training acc')\n",
    "plt.plot(epochs, val_acc, color='green', label='Validation acc')\n",
    "plt.title('Training and validation accuracy')\n",
    "plt.xlabel('Epochs')\n",
    "plt.ylabel('Loss')\n",
    "plt.legend()\n",
    "plt.show()"
   ]
  },
  {
   "cell_type": "code",
   "execution_count": null,
   "metadata": {},
   "outputs": [],
   "source": []
  }
 ],
 "metadata": {
  "kernelspec": {
   "display_name": "Python 3",
   "language": "python",
   "name": "python3"
  },
  "language_info": {
   "codemirror_mode": {
    "name": "ipython",
    "version": 3
   },
   "file_extension": ".py",
   "mimetype": "text/x-python",
   "name": "python",
   "nbconvert_exporter": "python",
   "pygments_lexer": "ipython3",
   "version": "3.7.2"
  }
 },
 "nbformat": 4,
 "nbformat_minor": 4
}
