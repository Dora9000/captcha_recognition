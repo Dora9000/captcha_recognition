{
 "cells": [
  {
   "cell_type": "code",
   "execution_count": 1,
   "metadata": {},
   "outputs": [
    {
     "name": "stderr",
     "output_type": "stream",
     "text": [
      "Using TensorFlow backend.\n"
     ]
    }
   ],
   "source": [
    "import matplotlib\n",
    "import cv2\n",
    "import os\n",
    "import pickle\n",
    "import random\n",
    "import numpy as np\n",
    "import matplotlib.pyplot as plt\n",
    "from keras.models import Sequential\n",
    "from keras.layers import Dense, Dropout, Flatten\n",
    "from keras.layers import Conv2D, MaxPooling2D\n",
    "from keras import backend as K\n",
    "from sklearn.preprocessing import LabelBinarizer\n",
    "from sklearn.model_selection import train_test_split\n",
    "from sklearn.metrics import classification_report\n",
    "import pathlib"
   ]
  },
  {
   "cell_type": "code",
   "execution_count": 2,
   "metadata": {},
   "outputs": [],
   "source": [
    "data = []\n",
    "labels = []\n",
    "\n",
    "#берём пути к изображениям и рандомно перемешиваем\n",
    "data_root = pathlib.Path(\"C:\\\\UIR\\\\samples\\\\sample_1\\\\1000\\\\cut_letters\")\n",
    "imagePaths = list(data_root.glob('*/*'))\n",
    "imagePaths = [str(path) for path in imagePaths]\n",
    "random.shuffle(imagePaths)\n",
    "\n",
    "#цикл по изображениям\n",
    "for imagePath in imagePaths:\n",
    "    #загружаем изображение, меняем размер на 28x28 пикселей и добавляем в список\n",
    "    image = cv2.imread(imagePath)\n",
    "    image = cv2.resize(image,(28,28))\n",
    "    data.append(image)\n",
    "    \n",
    "    #извлекаем метку класса из пути к изображению и обновляем список меток\n",
    "    label = imagePath.split(os.path.sep)[-2]\n",
    "    labels.append(label)"
   ]
  },
  {
   "cell_type": "code",
   "execution_count": 3,
   "metadata": {},
   "outputs": [],
   "source": [
    "# масштабируем интенсивности пикселей из диапазона [0,255] -> в диапазон [0, 1]\n",
    "data = np.array(data,dtype=\"float\") / 255.0\n",
    "labels = np.array(labels)"
   ]
  },
  {
   "cell_type": "code",
   "execution_count": 4,
   "metadata": {},
   "outputs": [
    {
     "name": "stdout",
     "output_type": "stream",
     "text": [
      "(9100, 28, 28, 3)\n",
      "(27300, 28, 28, 3)\n"
     ]
    }
   ],
   "source": [
    "# разбиваем данные на обучающую и тестовую выборки, используя 75% \n",
    "# данных для обучения и оставшиеся 25% для тестирования\n",
    "(trainX,testX, trainY,testY) = train_test_split(data, labels, test_size = 0.25, random_state = 42)\n",
    "print(testX.shape)\n",
    "print(trainX.shape)"
   ]
  },
  {
   "cell_type": "code",
   "execution_count": 5,
   "metadata": {},
   "outputs": [],
   "source": [
    "#Конвертируем метки из целых чисел в векторы\n",
    "lb = LabelBinarizer()\n",
    "trainY = lb.fit_transform(trainY) #находит все уникальные метки класса в testY, а затем преобразует их в метки One-Hot Encoding\n",
    "testY = lb.transform(testY) #выполняет один шаг One-Hot Encoding исходя из найденных уникальных меток на предыдущем шаге"
   ]
  },
  {
   "cell_type": "code",
   "execution_count": 6,
   "metadata": {},
   "outputs": [
    {
     "name": "stdout",
     "output_type": "stream",
     "text": [
      "X_train shape: (27300, 28, 28, 3)\n",
      "27300 train samples\n",
      "9100 test samples\n"
     ]
    }
   ],
   "source": [
    "print('X_train shape:', trainX.shape)\n",
    "print(trainX.shape[0], 'train samples')\n",
    "print(testX.shape[0], 'test samples')"
   ]
  },
  {
   "cell_type": "markdown",
   "metadata": {},
   "source": [
    "## CNN Architecture"
   ]
  },
  {
   "cell_type": "code",
   "execution_count": 31,
   "metadata": {},
   "outputs": [],
   "source": [
    "EPOCHS = 30\n",
    "img_rows, img_cols = 28, 28\n",
    "input_shape = (img_rows, img_cols, 3) #input_shape будет равен 28x28x3\n",
    "num_classes = 28\n",
    "\n",
    "\n",
    "model = Sequential()\n",
    "model.add(Conv2D(filters=30,kernel_size=(9, 9),strides=(1, 1), activation='sigmoid', input_shape=input_shape))\n",
    "model.add(MaxPooling2D(pool_size=(2,2),strides=2, padding='same'))\n",
    "\n",
    "model.add(Flatten())\n",
    "model.add(Dense(150, activation='sigmoid'))\n",
    "#model.add(Dropout(0.5))\n",
    "model.add(Dense(num_classes, activation='softmax'))\n",
    "\n",
    "#Компилируем модель, используя adadelta как оптимизатор и категориальную\n",
    "# кросс-энтропию в качестве функции потерь. Добавляем метрики\n",
    "model.compile(loss='categorical_crossentropy', optimizer='adadelta', metrics=['accuracy'])"
   ]
  },
  {
   "cell_type": "code",
   "execution_count": 32,
   "metadata": {},
   "outputs": [
    {
     "name": "stdout",
     "output_type": "stream",
     "text": [
      "Model: \"sequential_13\"\n",
      "_________________________________________________________________\n",
      "Layer (type)                 Output Shape              Param #   \n",
      "=================================================================\n",
      "conv2d_13 (Conv2D)           (None, 20, 20, 30)        7320      \n",
      "_________________________________________________________________\n",
      "max_pooling2d_13 (MaxPooling (None, 10, 10, 30)        0         \n",
      "_________________________________________________________________\n",
      "flatten_13 (Flatten)         (None, 3000)              0         \n",
      "_________________________________________________________________\n",
      "dense_25 (Dense)             (None, 150)               450150    \n",
      "_________________________________________________________________\n",
      "dense_26 (Dense)             (None, 28)                4228      \n",
      "=================================================================\n",
      "Total params: 461,698\n",
      "Trainable params: 461,698\n",
      "Non-trainable params: 0\n",
      "_________________________________________________________________\n"
     ]
    }
   ],
   "source": [
    "#отобразим получившуюся модель\n",
    "model.summary()"
   ]
  },
  {
   "cell_type": "code",
   "execution_count": 33,
   "metadata": {},
   "outputs": [],
   "source": [
    "from keras import callbacks\n",
    "#подключаем колбаски для работы tensorboard\n",
    "#write tensorboard --logdir C:/UIR/network_06/logs in cmd\n",
    "my_callbacks = [\n",
    "    callbacks.TensorBoard(log_dir=\"C:\\\\UIR\\\\network_06\\\\logs\", histogram_freq = 1, write_graph = True, write_images = True)\n",
    "]"
   ]
  },
  {
   "cell_type": "code",
   "execution_count": 34,
   "metadata": {},
   "outputs": [
    {
     "name": "stdout",
     "output_type": "stream",
     "text": [
      "Train on 27300 samples, validate on 9100 samples\n",
      "Epoch 1/30\n",
      " - 19s - loss: 0.2978 - accuracy: 0.9422 - val_loss: 0.0187 - val_accuracy: 0.9976\n",
      "Epoch 2/30\n",
      " - 22s - loss: 0.0134 - accuracy: 0.9978 - val_loss: 0.0114 - val_accuracy: 0.9982\n",
      "Epoch 3/30\n",
      " - 20s - loss: 0.0079 - accuracy: 0.9986 - val_loss: 0.0095 - val_accuracy: 0.9986\n",
      "Epoch 4/30\n",
      " - 20s - loss: 0.0056 - accuracy: 0.9990 - val_loss: 0.0091 - val_accuracy: 0.9986\n",
      "Epoch 5/30\n",
      " - 21s - loss: 0.0041 - accuracy: 0.9992 - val_loss: 0.0077 - val_accuracy: 0.9987\n",
      "Epoch 6/30\n",
      " - 19s - loss: 0.0034 - accuracy: 0.9992 - val_loss: 0.0072 - val_accuracy: 0.9988\n",
      "Epoch 7/30\n",
      " - 19s - loss: 0.0026 - accuracy: 0.9994 - val_loss: 0.0073 - val_accuracy: 0.9987\n",
      "Epoch 8/30\n",
      " - 19s - loss: 0.0021 - accuracy: 0.9996 - val_loss: 0.0067 - val_accuracy: 0.9990\n",
      "Epoch 9/30\n",
      " - 20s - loss: 0.0017 - accuracy: 0.9996 - val_loss: 0.0067 - val_accuracy: 0.9989\n",
      "Epoch 10/30\n",
      " - 20s - loss: 0.0014 - accuracy: 0.9997 - val_loss: 0.0066 - val_accuracy: 0.9986\n",
      "Epoch 11/30\n",
      " - 22s - loss: 0.0012 - accuracy: 0.9998 - val_loss: 0.0066 - val_accuracy: 0.9988\n",
      "Epoch 12/30\n",
      " - 25s - loss: 9.5442e-04 - accuracy: 0.9999 - val_loss: 0.0066 - val_accuracy: 0.9987\n",
      "Epoch 13/30\n",
      " - 21s - loss: 7.9692e-04 - accuracy: 0.9999 - val_loss: 0.0060 - val_accuracy: 0.9987\n",
      "Epoch 14/30\n",
      " - 22s - loss: 6.4418e-04 - accuracy: 1.0000 - val_loss: 0.0064 - val_accuracy: 0.9988\n",
      "Epoch 15/30\n",
      " - 19s - loss: 5.4034e-04 - accuracy: 1.0000 - val_loss: 0.0062 - val_accuracy: 0.9988\n",
      "Epoch 16/30\n",
      " - 19s - loss: 4.9655e-04 - accuracy: 1.0000 - val_loss: 0.0064 - val_accuracy: 0.9988\n",
      "Epoch 17/30\n",
      " - 20s - loss: 4.0093e-04 - accuracy: 1.0000 - val_loss: 0.0063 - val_accuracy: 0.9989\n",
      "Epoch 18/30\n",
      " - 19s - loss: 3.8232e-04 - accuracy: 1.0000 - val_loss: 0.0063 - val_accuracy: 0.9988\n",
      "Epoch 19/30\n",
      " - 20s - loss: 3.4664e-04 - accuracy: 1.0000 - val_loss: 0.0062 - val_accuracy: 0.9988\n",
      "Epoch 20/30\n",
      " - 21s - loss: 3.1054e-04 - accuracy: 1.0000 - val_loss: 0.0061 - val_accuracy: 0.9988\n",
      "Epoch 21/30\n",
      " - 20s - loss: 2.9050e-04 - accuracy: 1.0000 - val_loss: 0.0064 - val_accuracy: 0.9987\n",
      "Epoch 22/30\n",
      " - 20s - loss: 2.6554e-04 - accuracy: 1.0000 - val_loss: 0.0063 - val_accuracy: 0.9988\n",
      "Epoch 23/30\n",
      " - 20s - loss: 2.4057e-04 - accuracy: 1.0000 - val_loss: 0.0063 - val_accuracy: 0.9989\n",
      "Epoch 24/30\n",
      " - 19s - loss: 2.3276e-04 - accuracy: 1.0000 - val_loss: 0.0063 - val_accuracy: 0.9988\n",
      "Epoch 25/30\n",
      " - 19s - loss: 2.1559e-04 - accuracy: 1.0000 - val_loss: 0.0062 - val_accuracy: 0.9988\n",
      "Epoch 26/30\n",
      " - 21s - loss: 2.0262e-04 - accuracy: 1.0000 - val_loss: 0.0063 - val_accuracy: 0.9987\n",
      "Epoch 27/30\n",
      " - 23s - loss: 1.9083e-04 - accuracy: 1.0000 - val_loss: 0.0063 - val_accuracy: 0.9988\n",
      "Epoch 28/30\n",
      " - 20s - loss: 1.7817e-04 - accuracy: 1.0000 - val_loss: 0.0063 - val_accuracy: 0.9988\n",
      "Epoch 29/30\n",
      " - 21s - loss: 1.6903e-04 - accuracy: 1.0000 - val_loss: 0.0063 - val_accuracy: 0.9987\n",
      "Epoch 30/30\n",
      " - 20s - loss: 1.6141e-04 - accuracy: 1.0000 - val_loss: 0.0062 - val_accuracy: 0.9988\n"
     ]
    }
   ],
   "source": [
    "H = model.fit(trainX, trainY, verbose=2, validation_data=(testX, testY), epochs=EPOCHS, batch_size=32, callbacks=my_callbacks)"
   ]
  },
  {
   "cell_type": "code",
   "execution_count": 41,
   "metadata": {},
   "outputs": [],
   "source": [
    "model.save('model_06.h5')\n",
    "f = open(\"C:\\\\UIR\\\\network_06\\\\bin_class.txt\", \"wb\")\n",
    "f.write(pickle.dumps(lb))\n",
    "f.close()"
   ]
  },
  {
   "cell_type": "markdown",
   "metadata": {},
   "source": [
    "## Plots"
   ]
  },
  {
   "cell_type": "code",
   "execution_count": 35,
   "metadata": {},
   "outputs": [
    {
     "data": {
      "image/png": "[encoded data removed]",
      "text/plain": [
       "<Figure size 432x288 with 1 Axes>"
      ]
     },
     "metadata": {
      "needs_background": "light"
     },
     "output_type": "display_data"
    }
   ],
   "source": [
    "#plotting training and validation loss\n",
    "import matplotlib.pyplot as plt\n",
    "loss = H.history['loss']\n",
    "val_loss = H.history['val_loss']\n",
    "epochs = range(1, len(loss) + 1)\n",
    "plt.plot(epochs, loss, color='red', label='Training loss')\n",
    "plt.plot(epochs, val_loss, color='green', label='Validation loss')\n",
    "plt.title('Training and validation loss')\n",
    "plt.xlabel('Epochs')\n",
    "plt.ylabel('Loss')\n",
    "plt.legend()\n",
    "plt.show()"
   ]
  },
  {
   "cell_type": "code",
   "execution_count": 37,
   "metadata": {},
   "outputs": [
    {
     "data": {
      "image/png": "[encoded data removed]",
      "text/plain": [
       "<Figure size 432x288 with 1 Axes>"
      ]
     },
     "metadata": {
      "needs_background": "light"
     },
     "output_type": "display_data"
    }
   ],
   "source": [
    "#plotting training and validation loss\n",
    "import matplotlib.pyplot as plt\n",
    "loss = H.history['loss']\n",
    "loss = loss[1:10]\n",
    "val_loss = H.history['val_loss']\n",
    "val_loss = val_loss[1:10]\n",
    "epochs = range(1, len(loss) + 1)\n",
    "plt.plot(epochs, loss, color='red', label='Training loss')\n",
    "plt.plot(epochs, val_loss, color='green', label='Validation loss')\n",
    "plt.title('Training and validation loss')\n",
    "plt.xlabel('Epochs')\n",
    "plt.ylabel('Loss')\n",
    "plt.legend()\n",
    "plt.show()"
   ]
  },
  {
   "cell_type": "code",
   "execution_count": 38,
   "metadata": {},
   "outputs": [
    {
     "data": {
      "image/png": "[encoded data removed]",
      "text/plain": [
       "<Figure size 432x288 with 1 Axes>"
      ]
     },
     "metadata": {
      "needs_background": "light"
     },
     "output_type": "display_data"
    }
   ],
   "source": [
    "#plotting training and validation accuracy\n",
    "acc = H.history['accuracy']\n",
    "val_acc = H.history['val_accuracy']\n",
    "epochs = range(1, len(acc) + 1)\n",
    "plt.plot(epochs, acc, color='red', label='Training acc')\n",
    "plt.plot(epochs, val_acc, color='green', label='Validation acc')\n",
    "plt.title('Training and validation accuracy')\n",
    "plt.xlabel('Epochs')\n",
    "plt.ylabel('Loss')\n",
    "plt.legend()\n",
    "plt.show()"
   ]
  },
  {
   "cell_type": "code",
   "execution_count": 40,
   "metadata": {},
   "outputs": [
    {
     "data": {
      "image/png": "[encoded data removed]",
      "text/plain": [
       "<Figure size 432x288 with 1 Axes>"
      ]
     },
     "metadata": {
      "needs_background": "light"
     },
     "output_type": "display_data"
    }
   ],
   "source": [
    "#plotting training and validation accuracy\n",
    "acc = H.history['accuracy']\n",
    "acc = acc[1:20]\n",
    "val_acc = H.history['val_accuracy']\n",
    "val_acc = val_acc[1:20]\n",
    "epochs = range(1, len(acc) + 1)\n",
    "plt.plot(epochs, acc, color='red', label='Training acc')\n",
    "plt.plot(epochs, val_acc, color='green', label='Validation acc')\n",
    "plt.title('Training and validation accuracy')\n",
    "plt.xlabel('Epochs')\n",
    "plt.ylabel('Loss')\n",
    "plt.legend()\n",
    "plt.show()"
   ]
  },
  {
   "cell_type": "code",
   "execution_count": null,
   "metadata": {},
   "outputs": [],
   "source": []
  }
 ],
 "metadata": {
  "kernelspec": {
   "display_name": "Python 3",
   "language": "python",
   "name": "python3"
  },
  "language_info": {
   "codemirror_mode": {
    "name": "ipython",
    "version": 3
   },
   "file_extension": ".py",
   "mimetype": "text/x-python",
   "name": "python",
   "nbconvert_exporter": "python",
   "pygments_lexer": "ipython3",
   "version": "3.7.2"
  }
 },
 "nbformat": 4,
 "nbformat_minor": 4
}
