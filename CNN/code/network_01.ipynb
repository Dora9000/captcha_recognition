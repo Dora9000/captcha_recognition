{
 "cells": [
  {
   "cell_type": "code",
   "execution_count": 1,
   "metadata": {},
   "outputs": [
    {
     "name": "stderr",
     "output_type": "stream",
     "text": [
      "Using TensorFlow backend.\n"
     ]
    }
   ],
   "source": [
    "import matplotlib\n",
    "import cv2\n",
    "import os\n",
    "import pickle\n",
    "import random\n",
    "import numpy as np\n",
    "import matplotlib.pyplot as plt\n",
    "from keras.models import Sequential\n",
    "from keras.layers import Dense, Dropout, Flatten\n",
    "from keras.layers import Conv2D, MaxPooling2D\n",
    "from keras import backend as K"
   ]
  },
  {
   "cell_type": "code",
   "execution_count": 2,
   "metadata": {},
   "outputs": [],
   "source": [
    "from sklearn.preprocessing import LabelBinarizer\n",
    "from sklearn.model_selection import train_test_split\n",
    "from sklearn.metrics import classification_report\n",
    "import pathlib"
   ]
  },
  {
   "cell_type": "code",
   "execution_count": 3,
   "metadata": {},
   "outputs": [],
   "source": [
    "data = []\n",
    "labels = []\n",
    "\n",
    "data_root = pathlib.Path(\"C:\\\\UIR\\\\samples\\\\sample_1\\\\cut_letters\\\\cut_letters\")\n",
    "imagePaths = list(data_root.glob('*/*'))\n",
    "imagePaths = [str(path) for path in imagePaths]\n",
    "random.shuffle(imagePaths)\n",
    "\n",
    "for imagePath in imagePaths:\n",
    "    image = cv2.imread(imagePath)\n",
    "    #image = cv2.resize(image,(28,28)).flatten()\n",
    "    image = cv2.resize(image,(28,28))\n",
    "    data.append(image)\n",
    "    \n",
    "    label = imagePath.split(os.path.sep)[-2]\n",
    "    labels.append(label)"
   ]
  },
  {
   "cell_type": "code",
   "execution_count": 4,
   "metadata": {},
   "outputs": [
    {
     "data": {
      "text/plain": [
       "(28, 28, 3)"
      ]
     },
     "execution_count": 4,
     "metadata": {},
     "output_type": "execute_result"
    }
   ],
   "source": [
    "data[0].shape\n",
    "\n",
    "#image = cv2.resize(image,(28,28)).flatten()"
   ]
  },
  {
   "cell_type": "code",
   "execution_count": 5,
   "metadata": {},
   "outputs": [],
   "source": [
    "data = np.array(data,dtype=\"float\") / 255.0\n",
    "labels = np.array(labels)"
   ]
  },
  {
   "cell_type": "code",
   "execution_count": 6,
   "metadata": {},
   "outputs": [],
   "source": [
    "(trainX,testX, trainY,testY) = train_test_split(data, labels, test_size = 0.25, random_state = 42)"
   ]
  },
  {
   "cell_type": "code",
   "execution_count": 7,
   "metadata": {},
   "outputs": [
    {
     "data": {
      "text/plain": [
       "(21000, 28, 28, 3)"
      ]
     },
     "execution_count": 7,
     "metadata": {},
     "output_type": "execute_result"
    }
   ],
   "source": [
    "testX.shape"
   ]
  },
  {
   "cell_type": "code",
   "execution_count": 8,
   "metadata": {},
   "outputs": [],
   "source": [
    "lb = LabelBinarizer()\n",
    "trainY = lb.fit_transform(trainY)\n",
    "testY = lb.transform(testY)"
   ]
  },
  {
   "cell_type": "code",
   "execution_count": 9,
   "metadata": {},
   "outputs": [
    {
     "name": "stdout",
     "output_type": "stream",
     "text": [
      "X_train shape: (63000, 28, 28, 3)\n",
      "63000 train samples\n",
      "21000 test samples\n"
     ]
    }
   ],
   "source": [
    "print('X_train shape:', trainX.shape)\n",
    "print(trainX.shape[0], 'train samples')\n",
    "print(testX.shape[0], 'test samples')"
   ]
  },
  {
   "cell_type": "code",
   "execution_count": null,
   "metadata": {},
   "outputs": [],
   "source": []
  },
  {
   "cell_type": "code",
   "execution_count": 10,
   "metadata": {},
   "outputs": [
    {
     "ename": "ValueError",
     "evalue": "cannot reshape array of size 148176000 into shape (63000,28,28,1)",
     "output_type": "error",
     "traceback": [
      "\u001b[1;31m---------------------------------------------------------------------------\u001b[0m",
      "\u001b[1;31mValueError\u001b[0m                                Traceback (most recent call last)",
      "\u001b[1;32m<ipython-input-10-91f3e6a7eef8>\u001b[0m in \u001b[0;36m<module>\u001b[1;34m\u001b[0m\n\u001b[0;32m      8\u001b[0m     \u001b[0minput_shape\u001b[0m \u001b[1;33m=\u001b[0m \u001b[1;33m(\u001b[0m\u001b[1;36m1\u001b[0m\u001b[1;33m,\u001b[0m \u001b[0mimg_rows\u001b[0m\u001b[1;33m,\u001b[0m \u001b[0mimg_cols\u001b[0m\u001b[1;33m)\u001b[0m\u001b[1;33m\u001b[0m\u001b[1;33m\u001b[0m\u001b[0m\n\u001b[0;32m      9\u001b[0m \u001b[1;32melse\u001b[0m\u001b[1;33m:\u001b[0m\u001b[1;33m\u001b[0m\u001b[1;33m\u001b[0m\u001b[0m\n\u001b[1;32m---> 10\u001b[1;33m     \u001b[0mtrainX\u001b[0m \u001b[1;33m=\u001b[0m \u001b[0mtrainX\u001b[0m\u001b[1;33m.\u001b[0m\u001b[0mreshape\u001b[0m\u001b[1;33m(\u001b[0m\u001b[0mtrainX\u001b[0m\u001b[1;33m.\u001b[0m\u001b[0mshape\u001b[0m\u001b[1;33m[\u001b[0m\u001b[1;36m0\u001b[0m\u001b[1;33m]\u001b[0m\u001b[1;33m,\u001b[0m \u001b[0mimg_rows\u001b[0m\u001b[1;33m,\u001b[0m \u001b[0mimg_cols\u001b[0m\u001b[1;33m,\u001b[0m \u001b[1;36m1\u001b[0m\u001b[1;33m)\u001b[0m\u001b[1;33m\u001b[0m\u001b[1;33m\u001b[0m\u001b[0m\n\u001b[0m\u001b[0;32m     11\u001b[0m     \u001b[0mtestX\u001b[0m \u001b[1;33m=\u001b[0m \u001b[0mtestX\u001b[0m\u001b[1;33m.\u001b[0m\u001b[0mreshape\u001b[0m\u001b[1;33m(\u001b[0m\u001b[0mtestX\u001b[0m\u001b[1;33m.\u001b[0m\u001b[0mshape\u001b[0m\u001b[1;33m[\u001b[0m\u001b[1;36m0\u001b[0m\u001b[1;33m]\u001b[0m\u001b[1;33m,\u001b[0m \u001b[0mimg_rows\u001b[0m\u001b[1;33m,\u001b[0m \u001b[0mimg_cols\u001b[0m\u001b[1;33m,\u001b[0m \u001b[1;36m1\u001b[0m\u001b[1;33m)\u001b[0m\u001b[1;33m\u001b[0m\u001b[1;33m\u001b[0m\u001b[0m\n\u001b[0;32m     12\u001b[0m     \u001b[0minput_shape\u001b[0m \u001b[1;33m=\u001b[0m \u001b[1;33m(\u001b[0m\u001b[0mimg_rows\u001b[0m\u001b[1;33m,\u001b[0m \u001b[0mimg_cols\u001b[0m\u001b[1;33m,\u001b[0m \u001b[1;36m1\u001b[0m\u001b[1;33m)\u001b[0m\u001b[1;33m\u001b[0m\u001b[1;33m\u001b[0m\u001b[0m\n",
      "\u001b[1;31mValueError\u001b[0m: cannot reshape array of size 148176000 into shape (63000,28,28,1)"
     ]
    }
   ],
   "source": [
    "img_rows, img_cols = 28, 28\n",
    "input_shape = (img_rows, img_cols, 3)\n",
    "num_classes = 28\n",
    "\n",
    "if K.image_data_format() == 'channels_first':\n",
    "    trainX = trainX.reshape(trainX.shape[0], 1, img_rows, img_cols)\n",
    "    testX = testX.reshape(testX.shape[0], 1, img_rows, img_cols)\n",
    "    input_shape = (1, img_rows, img_cols)\n",
    "else:\n",
    "    trainX = trainX.reshape(trainX.shape[0], img_rows, img_cols, 1)\n",
    "    testX = testX.reshape(testX.shape[0], img_rows, img_cols, 1)\n",
    "    input_shape = (img_rows, img_cols, 1)"
   ]
  },
  {
   "cell_type": "code",
   "execution_count": 11,
   "metadata": {},
   "outputs": [],
   "source": [
    "EPOCHS = 50\n",
    "img_rows, img_cols = 28, 28\n",
    "input_shape = (img_rows, img_cols, 3) #input_shape будет равен 28x28x3\n",
    "num_classes = 28\n",
    "\n",
    "\n",
    "model = Sequential()\n",
    "model.add(Conv2D(filters=50,kernel_size=(5, 5),strides=(1, 1), activation='relu', input_shape=input_shape))\n",
    "model.add(MaxPooling2D(pool_size=(2,2),strides=2, padding='same'))\n",
    "model.add(Conv2D(filters=100,kernel_size=(5, 5),strides=(1, 1), activation='relu'))\n",
    "model.add(MaxPooling2D(pool_size=(2, 2),strides=2))\n",
    "#model.add(Dropout(0.25))\n",
    "model.add(Flatten())\n",
    "model.add(Dense(300, activation='relu'))\n",
    "model.add(Dropout(0.5))\n",
    "model.add(Dense(num_classes, activation='softmax'))\n",
    "\n",
    "#Компилируем модель, используя adadelta как оптимизатор и категориальную\n",
    "# кросс-энтропию в качестве функции потерь. Добавляем метрики\n",
    "model.compile(loss='categorical_crossentropy', optimizer='adadelta', metrics=['accuracy'])"
   ]
  },
  {
   "cell_type": "code",
   "execution_count": 12,
   "metadata": {},
   "outputs": [
    {
     "name": "stdout",
     "output_type": "stream",
     "text": [
      "Model: \"sequential_1\"\n",
      "_________________________________________________________________\n",
      "Layer (type)                 Output Shape              Param #   \n",
      "=================================================================\n",
      "conv2d_1 (Conv2D)            (None, 24, 24, 50)        3800      \n",
      "_________________________________________________________________\n",
      "max_pooling2d_1 (MaxPooling2 (None, 12, 12, 50)        0         \n",
      "_________________________________________________________________\n",
      "conv2d_2 (Conv2D)            (None, 8, 8, 100)         125100    \n",
      "_________________________________________________________________\n",
      "max_pooling2d_2 (MaxPooling2 (None, 4, 4, 100)         0         \n",
      "_________________________________________________________________\n",
      "flatten_1 (Flatten)          (None, 1600)              0         \n",
      "_________________________________________________________________\n",
      "dense_1 (Dense)              (None, 300)               480300    \n",
      "_________________________________________________________________\n",
      "dropout_1 (Dropout)          (None, 300)               0         \n",
      "_________________________________________________________________\n",
      "dense_2 (Dense)              (None, 28)                8428      \n",
      "=================================================================\n",
      "Total params: 617,628\n",
      "Trainable params: 617,628\n",
      "Non-trainable params: 0\n",
      "_________________________________________________________________\n"
     ]
    }
   ],
   "source": [
    "#отобразим получившуюся модель\n",
    "model.summary()"
   ]
  },
  {
   "cell_type": "code",
   "execution_count": 15,
   "metadata": {},
   "outputs": [],
   "source": [
    "from keras import callbacks\n",
    "tbCallBack = callbacks.TensorBoard(log_dir=\"C:\\\\UIR\\\\network_01\\\\logs\", histogram_freq = 1, write_graph = False, write_images = True)"
   ]
  },
  {
   "cell_type": "code",
   "execution_count": 16,
   "metadata": {},
   "outputs": [
    {
     "name": "stdout",
     "output_type": "stream",
     "text": [
      "Train on 63000 samples, validate on 21000 samples\n",
      "Epoch 1/50\n",
      " - 87s - loss: 0.0709 - accuracy: 0.9812 - val_loss: 0.0095 - val_accuracy: 0.9981\n",
      "Epoch 2/50\n",
      " - 88s - loss: 0.0065 - accuracy: 0.9985 - val_loss: 0.0089 - val_accuracy: 0.9985\n",
      "Epoch 3/50\n",
      " - 91s - loss: 0.0045 - accuracy: 0.9991 - val_loss: 0.0068 - val_accuracy: 0.9988\n",
      "Epoch 4/50\n",
      " - 86s - loss: 0.0035 - accuracy: 0.9992 - val_loss: 0.0065 - val_accuracy: 0.9992\n",
      "Epoch 5/50\n",
      " - 89s - loss: 0.0026 - accuracy: 0.9994 - val_loss: 0.0061 - val_accuracy: 0.9990\n",
      "Epoch 6/50\n",
      " - 86s - loss: 0.0022 - accuracy: 0.9996 - val_loss: 0.0071 - val_accuracy: 0.9991\n",
      "Epoch 7/50\n",
      " - 87s - loss: 0.0016 - accuracy: 0.9997 - val_loss: 0.0073 - val_accuracy: 0.9991\n",
      "Epoch 8/50\n",
      " - 86s - loss: 0.0014 - accuracy: 0.9996 - val_loss: 0.0064 - val_accuracy: 0.9992\n",
      "Epoch 9/50\n",
      " - 88s - loss: 9.6077e-04 - accuracy: 0.9997 - val_loss: 0.0067 - val_accuracy: 0.9992\n",
      "Epoch 10/50\n",
      " - 87s - loss: 0.0010 - accuracy: 0.9998 - val_loss: 0.0072 - val_accuracy: 0.9992\n",
      "Epoch 11/50\n",
      " - 86s - loss: 4.7456e-04 - accuracy: 0.9998 - val_loss: 0.0073 - val_accuracy: 0.9992\n",
      "Epoch 12/50\n",
      " - 87s - loss: 6.5929e-04 - accuracy: 0.9998 - val_loss: 0.0079 - val_accuracy: 0.9993\n",
      "Epoch 13/50\n",
      " - 88s - loss: 7.3234e-04 - accuracy: 0.9999 - val_loss: 0.0067 - val_accuracy: 0.9993\n",
      "Epoch 14/50\n",
      " - 96s - loss: 4.4200e-04 - accuracy: 0.9999 - val_loss: 0.0080 - val_accuracy: 0.9993\n",
      "Epoch 15/50\n",
      " - 91s - loss: 4.8630e-04 - accuracy: 0.9999 - val_loss: 0.0080 - val_accuracy: 0.9992\n",
      "Epoch 16/50\n",
      " - 91s - loss: 6.7587e-04 - accuracy: 0.9999 - val_loss: 0.0083 - val_accuracy: 0.9990\n",
      "Epoch 17/50\n",
      " - 91s - loss: 4.3275e-04 - accuracy: 0.9999 - val_loss: 0.0075 - val_accuracy: 0.9992\n",
      "Epoch 18/50\n",
      " - 97s - loss: 6.2991e-04 - accuracy: 0.9998 - val_loss: 0.0078 - val_accuracy: 0.9992\n",
      "Epoch 19/50\n",
      " - 90s - loss: 2.9464e-04 - accuracy: 0.9999 - val_loss: 0.0082 - val_accuracy: 0.9993\n",
      "Epoch 20/50\n",
      " - 92s - loss: 3.2821e-04 - accuracy: 0.9999 - val_loss: 0.0081 - val_accuracy: 0.9993\n",
      "Epoch 21/50\n",
      " - 95s - loss: 5.2307e-04 - accuracy: 0.9999 - val_loss: 0.0094 - val_accuracy: 0.9993\n",
      "Epoch 22/50\n",
      " - 90s - loss: 2.1802e-04 - accuracy: 1.0000 - val_loss: 0.0086 - val_accuracy: 0.9993\n",
      "Epoch 23/50\n",
      " - 96s - loss: 2.8824e-04 - accuracy: 1.0000 - val_loss: 0.0083 - val_accuracy: 0.9993\n",
      "Epoch 24/50\n",
      " - 95s - loss: 2.0552e-04 - accuracy: 0.9999 - val_loss: 0.0098 - val_accuracy: 0.9992\n",
      "Epoch 25/50\n",
      " - 90s - loss: 2.7458e-04 - accuracy: 0.9999 - val_loss: 0.0090 - val_accuracy: 0.9992\n",
      "Epoch 26/50\n",
      " - 94s - loss: 6.9743e-05 - accuracy: 1.0000 - val_loss: 0.0082 - val_accuracy: 0.9993\n",
      "Epoch 27/50\n",
      " - 90s - loss: 3.2605e-04 - accuracy: 1.0000 - val_loss: 0.0089 - val_accuracy: 0.9992\n",
      "Epoch 28/50\n",
      " - 92s - loss: 1.0935e-04 - accuracy: 0.9999 - val_loss: 0.0075 - val_accuracy: 0.9993\n",
      "Epoch 29/50\n",
      " - 95s - loss: 2.8852e-04 - accuracy: 1.0000 - val_loss: 0.0079 - val_accuracy: 0.9993\n",
      "Epoch 30/50\n",
      " - 95s - loss: 1.7184e-04 - accuracy: 1.0000 - val_loss: 0.0084 - val_accuracy: 0.9993\n",
      "Epoch 31/50\n",
      " - 90s - loss: 2.4701e-04 - accuracy: 1.0000 - val_loss: 0.0083 - val_accuracy: 0.9994\n",
      "Epoch 32/50\n",
      " - 91s - loss: 1.0338e-04 - accuracy: 1.0000 - val_loss: 0.0085 - val_accuracy: 0.9994\n",
      "Epoch 33/50\n",
      " - 89s - loss: 2.1146e-05 - accuracy: 1.0000 - val_loss: 0.0100 - val_accuracy: 0.9994\n",
      "Epoch 34/50\n",
      " - 96s - loss: 4.2460e-05 - accuracy: 1.0000 - val_loss: 0.0093 - val_accuracy: 0.9994\n",
      "Epoch 35/50\n",
      " - 90s - loss: 1.2592e-04 - accuracy: 1.0000 - val_loss: 0.0089 - val_accuracy: 0.9994\n",
      "Epoch 36/50\n",
      " - 87s - loss: 3.3628e-04 - accuracy: 0.9999 - val_loss: 0.0086 - val_accuracy: 0.9993\n",
      "Epoch 37/50\n",
      " - 91s - loss: 1.0920e-04 - accuracy: 0.9999 - val_loss: 0.0092 - val_accuracy: 0.9994\n",
      "Epoch 38/50\n",
      " - 95s - loss: 1.0119e-04 - accuracy: 1.0000 - val_loss: 0.0100 - val_accuracy: 0.9993\n",
      "Epoch 39/50\n",
      " - 93s - loss: 1.0503e-05 - accuracy: 1.0000 - val_loss: 0.0099 - val_accuracy: 0.9994\n",
      "Epoch 40/50\n",
      " - 88s - loss: 2.9355e-05 - accuracy: 1.0000 - val_loss: 0.0098 - val_accuracy: 0.9994\n",
      "Epoch 41/50\n",
      " - 90s - loss: 3.4098e-04 - accuracy: 1.0000 - val_loss: 0.0106 - val_accuracy: 0.9992\n",
      "Epoch 42/50\n",
      " - 91s - loss: 1.0019e-04 - accuracy: 1.0000 - val_loss: 0.0099 - val_accuracy: 0.9993\n",
      "Epoch 43/50\n",
      " - 92s - loss: 1.3148e-05 - accuracy: 1.0000 - val_loss: 0.0096 - val_accuracy: 0.9993\n",
      "Epoch 44/50\n",
      " - 90s - loss: 2.5135e-05 - accuracy: 1.0000 - val_loss: 0.0110 - val_accuracy: 0.9993\n",
      "Epoch 45/50\n",
      " - 97s - loss: 1.4584e-05 - accuracy: 1.0000 - val_loss: 0.0103 - val_accuracy: 0.9994\n",
      "Epoch 46/50\n",
      " - 90s - loss: 7.3774e-05 - accuracy: 1.0000 - val_loss: 0.0105 - val_accuracy: 0.9993\n",
      "Epoch 47/50\n",
      " - 90s - loss: 5.9206e-05 - accuracy: 1.0000 - val_loss: 0.0101 - val_accuracy: 0.9993\n",
      "Epoch 48/50\n",
      " - 119s - loss: 4.7379e-05 - accuracy: 1.0000 - val_loss: 0.0097 - val_accuracy: 0.9994\n",
      "Epoch 49/50\n",
      " - 124s - loss: 1.2689e-04 - accuracy: 1.0000 - val_loss: 0.0091 - val_accuracy: 0.9993\n",
      "Epoch 50/50\n",
      " - 119s - loss: 1.2871e-04 - accuracy: 1.0000 - val_loss: 0.0090 - val_accuracy: 0.9994\n"
     ]
    }
   ],
   "source": [
    "H = model.fit(trainX, trainY, verbose=2, validation_data=(testX, testY), epochs=EPOCHS, batch_size=32, callbacks=[tbCallBack])"
   ]
  },
  {
   "cell_type": "code",
   "execution_count": 17,
   "metadata": {},
   "outputs": [],
   "source": [
    "model.save('model_01.h5')"
   ]
  },
  {
   "cell_type": "code",
   "execution_count": 33,
   "metadata": {},
   "outputs": [],
   "source": [
    "f = open(\"C:\\\\UIR\\\\network_01\\\\bin_class.txt\", \"wb\")\n",
    "f.write(pickle.dumps(lb))\n",
    "f.close()"
   ]
  },
  {
   "cell_type": "code",
   "execution_count": 37,
   "metadata": {},
   "outputs": [],
   "source": [
    "#new_model = keras.models.load_model('my_model.h5')\n",
    "#lb = pickle.loads(open(\"C:\\\\UIR\\\\network_01\\\\bin_class.txt\", \"rb\").read()) #загружаем сохраненный бинаризатор меток"
   ]
  },
  {
   "cell_type": "code",
   "execution_count": 19,
   "metadata": {},
   "outputs": [
    {
     "name": "stdout",
     "output_type": "stream",
     "text": [
      "Точность восстановленной модели: 99.94%\n"
     ]
    }
   ],
   "source": [
    "loss, acc = model.evaluate(testX,  testY, verbose=2)\n",
    "print(\"Точность восстановленной модели: {:5.2f}%\".format(100*acc))"
   ]
  },
  {
   "cell_type": "code",
   "execution_count": 20,
   "metadata": {},
   "outputs": [],
   "source": [
    "test_image = cv2.imread(\"C:\\\\UIR\\\\samples\\\\sample_1\\\\cut_letters\\\\extra\\\\4\\\\4955375.jpeg\")\n",
    "output = test_image.copy()\n",
    "test_image = cv2.resize(test_image,(28,28))\n",
    "test_image = test_image.astype(\"float\") / 255.0"
   ]
  },
  {
   "cell_type": "code",
   "execution_count": 23,
   "metadata": {},
   "outputs": [
    {
     "data": {
      "text/plain": [
       "(1, 28, 28, 3)"
      ]
     },
     "execution_count": 23,
     "metadata": {},
     "output_type": "execute_result"
    }
   ],
   "source": [
    "test_image = test_image.reshape((1,test_image.shape[0], test_image.shape[1],test_image.shape[2]))\n",
    "test_image.shape"
   ]
  },
  {
   "cell_type": "code",
   "execution_count": 25,
   "metadata": {},
   "outputs": [],
   "source": [
    "preds = model.predict(test_image)"
   ]
  },
  {
   "cell_type": "code",
   "execution_count": 35,
   "metadata": {},
   "outputs": [],
   "source": [
    "i = preds.argmax(axis=1)[0]\n",
    "test_label = lb.classes_[i]"
   ]
  },
  {
   "cell_type": "code",
   "execution_count": 36,
   "metadata": {},
   "outputs": [
    {
     "data": {
      "text/plain": [
       "array([[0., 0., 1., 0., 0., 0., 0., 0., 0., 0., 0., 0., 0., 0., 0., 0.,\n",
       "        0., 0., 0., 0., 0., 0., 0., 0., 0., 0., 0., 0.]], dtype=float32)"
      ]
     },
     "execution_count": 36,
     "metadata": {},
     "output_type": "execute_result"
    }
   ],
   "source": [
    "preds"
   ]
  },
  {
   "cell_type": "code",
   "execution_count": 40,
   "metadata": {},
   "outputs": [
    {
     "name": "stdout",
     "output_type": "stream",
     "text": [
      "Результат распознавания: 4\n"
     ]
    }
   ],
   "source": [
    "print(\"Результат распознавания: \" + test_label)"
   ]
  },
  {
   "cell_type": "code",
   "execution_count": 38,
   "metadata": {},
   "outputs": [
    {
     "data": {
      "text/plain": [
       "'4: 100.00%'"
      ]
     },
     "execution_count": 38,
     "metadata": {},
     "output_type": "execute_result"
    }
   ],
   "source": [
    "text = \"{}: {:.2f}%\".format(test_label, preds[0][i] * 100)\n",
    "text"
   ]
  },
  {
   "cell_type": "code",
   "execution_count": 1,
   "metadata": {},
   "outputs": [
    {
     "ename": "NameError",
     "evalue": "name 'H' is not defined",
     "output_type": "error",
     "traceback": [
      "\u001b[1;31m---------------------------------------------------------------------------\u001b[0m",
      "\u001b[1;31mNameError\u001b[0m                                 Traceback (most recent call last)",
      "\u001b[1;32m<ipython-input-1-30d26e72dae0>\u001b[0m in \u001b[0;36m<module>\u001b[1;34m\u001b[0m\n\u001b[0;32m      1\u001b[0m \u001b[1;31m#plotting training and validation loss\u001b[0m\u001b[1;33m\u001b[0m\u001b[1;33m\u001b[0m\u001b[1;33m\u001b[0m\u001b[0m\n\u001b[0;32m      2\u001b[0m \u001b[1;32mimport\u001b[0m \u001b[0mmatplotlib\u001b[0m\u001b[1;33m.\u001b[0m\u001b[0mpyplot\u001b[0m \u001b[1;32mas\u001b[0m \u001b[0mplt\u001b[0m\u001b[1;33m\u001b[0m\u001b[1;33m\u001b[0m\u001b[0m\n\u001b[1;32m----> 3\u001b[1;33m \u001b[0mloss\u001b[0m \u001b[1;33m=\u001b[0m \u001b[0mH\u001b[0m\u001b[1;33m.\u001b[0m\u001b[0mhistory\u001b[0m\u001b[1;33m[\u001b[0m\u001b[1;34m'loss'\u001b[0m\u001b[1;33m]\u001b[0m\u001b[1;33m\u001b[0m\u001b[1;33m\u001b[0m\u001b[0m\n\u001b[0m\u001b[0;32m      4\u001b[0m \u001b[0mval_loss\u001b[0m \u001b[1;33m=\u001b[0m \u001b[0mH\u001b[0m\u001b[1;33m.\u001b[0m\u001b[0mhistory\u001b[0m\u001b[1;33m[\u001b[0m\u001b[1;34m'val_loss'\u001b[0m\u001b[1;33m]\u001b[0m\u001b[1;33m\u001b[0m\u001b[1;33m\u001b[0m\u001b[0m\n\u001b[0;32m      5\u001b[0m \u001b[0mepochs\u001b[0m \u001b[1;33m=\u001b[0m \u001b[0mrange\u001b[0m\u001b[1;33m(\u001b[0m\u001b[1;36m1\u001b[0m\u001b[1;33m,\u001b[0m \u001b[0mlen\u001b[0m\u001b[1;33m(\u001b[0m\u001b[0mloss\u001b[0m\u001b[1;33m)\u001b[0m \u001b[1;33m+\u001b[0m \u001b[1;36m1\u001b[0m\u001b[1;33m)\u001b[0m\u001b[1;33m\u001b[0m\u001b[1;33m\u001b[0m\u001b[0m\n",
      "\u001b[1;31mNameError\u001b[0m: name 'H' is not defined"
     ]
    }
   ],
   "source": [
    "#plotting training and validation loss\n",
    "import matplotlib.pyplot as plt\n",
    "loss = H.history['loss']\n",
    "val_loss = H.history['val_loss']\n",
    "epochs = range(1, len(loss) + 1)\n",
    "plt.plot(epochs, loss, color='red', label='Training loss')\n",
    "plt.plot(epochs, val_loss, color='green', label='Validation loss')\n",
    "plt.title('Training and validation loss')\n",
    "plt.xlabel('Epochs')\n",
    "plt.ylabel('Loss')\n",
    "plt.legend()\n",
    "plt.show()"
   ]
  },
  {
   "cell_type": "code",
   "execution_count": null,
   "metadata": {},
   "outputs": [],
   "source": []
  }
 ],
 "metadata": {
  "kernelspec": {
   "display_name": "Python 3",
   "language": "python",
   "name": "python3"
  },
  "language_info": {
   "codemirror_mode": {
    "name": "ipython",
    "version": 3
   },
   "file_extension": ".py",
   "mimetype": "text/x-python",
   "name": "python",
   "nbconvert_exporter": "python",
   "pygments_lexer": "ipython3",
   "version": "3.7.2"
  }
 },
 "nbformat": 4,
 "nbformat_minor": 4
}
